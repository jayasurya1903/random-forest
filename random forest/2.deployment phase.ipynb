{
 "cells": [
  {
   "cell_type": "code",
   "execution_count": 1,
   "id": "41ccf79c-8dbc-44c3-87e7-d7c6136cb6c0",
   "metadata": {},
   "outputs": [],
   "source": [
    "import pickle"
   ]
  },
  {
   "cell_type": "code",
   "execution_count": 2,
   "id": "a613d9bc-42e4-4d0d-b708-d6721be8943c",
   "metadata": {},
   "outputs": [
    {
     "name": "stderr",
     "output_type": "stream",
     "text": [
      "C:\\Users\\jayas\\anaconda3\\Lib\\site-packages\\sklearn\\utils\\validation.py:2739: UserWarning: X does not have valid feature names, but RandomForestRegressor was fitted with feature names\n",
      "  warnings.warn(\n"
     ]
    }
   ],
   "source": [
    "load_model=pickle.load(open(\"finalized_model_random_forest_regression.sav\" ,\"rb\")) # load the model from the file\n",
    "result=load_model.predict([[30000,46678,50000,True,False]])"
   ]
  },
  {
   "cell_type": "code",
   "execution_count": 3,
   "id": "658289ff-046d-4e06-81e7-44740dcfa5e9",
   "metadata": {},
   "outputs": [
    {
     "data": {
      "text/plain": [
       "array([78914.4968])"
      ]
     },
     "execution_count": 3,
     "metadata": {},
     "output_type": "execute_result"
    }
   ],
   "source": [
    "result"
   ]
  },
  {
   "cell_type": "code",
   "execution_count": null,
   "id": "ee330837-0113-4b20-a61c-faf74c0de4bd",
   "metadata": {},
   "outputs": [],
   "source": []
  }
 ],
 "metadata": {
  "kernelspec": {
   "display_name": "Python 3 (ipykernel)",
   "language": "python",
   "name": "python3"
  },
  "language_info": {
   "codemirror_mode": {
    "name": "ipython",
    "version": 3
   },
   "file_extension": ".py",
   "mimetype": "text/x-python",
   "name": "python",
   "nbconvert_exporter": "python",
   "pygments_lexer": "ipython3",
   "version": "3.13.5"
  }
 },
 "nbformat": 4,
 "nbformat_minor": 5
}
